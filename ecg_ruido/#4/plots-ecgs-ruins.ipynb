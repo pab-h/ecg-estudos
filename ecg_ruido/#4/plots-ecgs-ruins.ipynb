{
 "cells": [
  {
   "cell_type": "code",
   "execution_count": 3,
   "metadata": {},
   "outputs": [],
   "source": [
    "import matplotlib.pyplot as plt\n",
    "import pandas as pd\n",
    "import os"
   ]
  },
  {
   "cell_type": "markdown",
   "metadata": {},
   "source": [
    "# Labels"
   ]
  },
  {
   "cell_type": "code",
   "execution_count": 4,
   "metadata": {},
   "outputs": [],
   "source": [
    "LABELS_FOLDER = \"../dataset/labels\"\n",
    "\n",
    "ecgsIdUnacceptable = []\n",
    "\n",
    "recordsUnacceptablePath = os.path.join(\n",
    "    LABELS_FOLDER, \n",
    "    \"RECORDS-unacceptable\"\n",
    ")\n",
    "\n",
    "with open(recordsUnacceptablePath) as file:\n",
    "    ecgsIdUnacceptable = file.readlines()\n",
    "\n",
    "ecgsIdUnacceptable = map(\n",
    "    lambda ecg: ecg[:-1], \n",
    "    ecgsIdUnacceptable\n",
    ")\n",
    "ecgsIdUnacceptable = list(ecgsIdUnacceptable)"
   ]
  },
  {
   "cell_type": "code",
   "execution_count": 5,
   "metadata": {},
   "outputs": [
    {
     "name": "stdout",
     "output_type": "stream",
     "text": [
      "22.5% is unacceptable\n"
     ]
    }
   ],
   "source": [
    "print(f\"{ len(ecgsIdUnacceptable) / 10 }% is unacceptable\")"
   ]
  },
  {
   "cell_type": "markdown",
   "metadata": {},
   "source": [
    "# Configuração dos ECG's"
   ]
  },
  {
   "cell_type": "code",
   "execution_count": 6,
   "metadata": {},
   "outputs": [],
   "source": [
    "DATASET_FOLDER = \"../dataset/set-a\"\n",
    "\n",
    "ecgColumns = [\n",
    "    \"amostra\",\n",
    "    \"lead I\", \n",
    "    \"lead II\", \n",
    "    \"lead III\", \n",
    "    \"aVR\", \n",
    "    \"aVL\",\n",
    "    \"aVF\", \n",
    "    \"V1\",\n",
    "    \"V2\",\n",
    "    \"V3\",\n",
    "    \"V4\",\n",
    "    \"V5\",\n",
    "    \"V6\",\n",
    "]   "
   ]
  },
  {
   "cell_type": "markdown",
   "metadata": {},
   "source": [
    "# Função de plot"
   ]
  },
  {
   "cell_type": "code",
   "execution_count": 7,
   "metadata": {},
   "outputs": [],
   "source": [
    "def savePlotEcgDerivations(ecgId, ecg, derivations, dist):\n",
    "    figure, axes = plt.subplots(3, 4, figsize=(12, 8))\n",
    "\n",
    "    colors = [\n",
    "        'red', \n",
    "        'blue', \n",
    "        'green', \n",
    "        'orange', \n",
    "        'purple', \n",
    "        'brown', \n",
    "        'pink', \n",
    "        'gray', \n",
    "        'cyan', \n",
    "        'magenta', \n",
    "        'yellow', \n",
    "        'black'\n",
    "    ]\n",
    "\n",
    "    k = 0\n",
    "\n",
    "    for i in range(3):\n",
    "        for j in range(4):\n",
    "\n",
    "            currentDerivation = derivations[k]\n",
    "\n",
    "            axes[i, j].plot(ecg[\"amostra\"], ecg[currentDerivation], color = colors[k])\n",
    "            axes[i, j].set_title(currentDerivation)\n",
    "            k += 1\n",
    "\n",
    "    figure.suptitle(f\"ECG - { ecgId }\")\n",
    "\n",
    "    plt.tight_layout()\n",
    "    plt.savefig(os.path.join(\n",
    "        dist, \n",
    "        f\"ECG - { ecgId }.png\")\n",
    "    )\n",
    "    plt.close(figure)"
   ]
  },
  {
   "cell_type": "markdown",
   "metadata": {},
   "source": [
    "# Salvando os plots"
   ]
  },
  {
   "cell_type": "code",
   "execution_count": 8,
   "metadata": {},
   "outputs": [],
   "source": [
    "for ecgId in ecgsIdUnacceptable:\n",
    "    ecgPath = os.path.join(DATASET_FOLDER, f\"{ ecgId }.txt\")\n",
    "\n",
    "    ecg = pd.read_csv(ecgPath)\n",
    "    ecg.columns = ecgColumns\n",
    "\n",
    "    savePlotEcgDerivations(\n",
    "        ecgId, \n",
    "        ecg, \n",
    "        ecgColumns[1:], \n",
    "        \"./ecgs-unacceptable-plot\"\n",
    "    )\n",
    "\n",
    "\n"
   ]
  }
 ],
 "metadata": {
  "kernelspec": {
   "display_name": "ecg-ruido-6YsDnZCw-py3.12",
   "language": "python",
   "name": "python3"
  },
  "language_info": {
   "codemirror_mode": {
    "name": "ipython",
    "version": 3
   },
   "file_extension": ".py",
   "mimetype": "text/x-python",
   "name": "python",
   "nbconvert_exporter": "python",
   "pygments_lexer": "ipython3",
   "version": "3.12.0"
  }
 },
 "nbformat": 4,
 "nbformat_minor": 2
}
