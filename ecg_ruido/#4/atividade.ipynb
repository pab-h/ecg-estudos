{
 "cells": [
  {
   "cell_type": "code",
   "execution_count": 82,
   "metadata": {},
   "outputs": [],
   "source": [
    "import matplotlib.pyplot as plt\n",
    "import pandas as pd\n",
    "import numpy as np\n",
    "import os\n",
    "from random import choice"
   ]
  },
  {
   "cell_type": "markdown",
   "metadata": {},
   "source": [
    "### Pré-processamento dos ECG's"
   ]
  },
  {
   "cell_type": "markdown",
   "metadata": {},
   "source": [
    "#### Labels"
   ]
  },
  {
   "cell_type": "code",
   "execution_count": 83,
   "metadata": {},
   "outputs": [],
   "source": [
    "LABELS_FOLDER = \"../dataset/labels\"\n",
    "\n",
    "ecgsAcceptable = []\n",
    "\n",
    "with open(os.path.join(LABELS_FOLDER, \"RECORDS-acceptable\")) as file:\n",
    "    ecgsAcceptable = file.readlines()\n",
    "\n",
    "ecgsAcceptable = map(\n",
    "    lambda ecg: ecg[:-1], \n",
    "    ecgsAcceptable\n",
    ")\n",
    "ecgsAcceptable = list(ecgsAcceptable)"
   ]
  },
  {
   "cell_type": "code",
   "execution_count": 84,
   "metadata": {},
   "outputs": [
    {
     "name": "stdout",
     "output_type": "stream",
     "text": [
      "77.3% is acceptable\n"
     ]
    }
   ],
   "source": [
    "print(f\"{ len(ecgsAcceptable) / 10 }% is acceptable\")"
   ]
  },
  {
   "cell_type": "markdown",
   "metadata": {},
   "source": [
    "#### ECG Summary"
   ]
  },
  {
   "cell_type": "code",
   "execution_count": 85,
   "metadata": {},
   "outputs": [],
   "source": [
    "DATASET_FOLDER = \"../dataset/set-a\"\n",
    "\n",
    "ecgs = os.listdir(DATASET_FOLDER) \n",
    "ecgs = filter(lambda ecg: \".txt\" in ecg, ecgs)\n",
    "ecgs = list(ecgs)\n",
    "\n",
    "ecgColumns = [\n",
    "    \"amostra\",\n",
    "    \"lead I\", \n",
    "    \"lead II\", \n",
    "    \"lead III\", \n",
    "    \"aVR\", \n",
    "    \"aVL\",\n",
    "    \"aVF\", \n",
    "    \"V1\",\n",
    "    \"V2\",\n",
    "    \"V3\",\n",
    "    \"V4\",\n",
    "    \"V5\",\n",
    "    \"V6\"\n",
    "]\n",
    "\n",
    "ecgsLabels = pd.DataFrame(\n",
    "    columns = [\n",
    "        \"id\", \n",
    "        \"isAcceptable\"\n",
    "    ]\n",
    ")\n",
    "\n",
    "for ecg in ecgs: \n",
    "    ecgId = ecg.split(\".\").pop(0)\n",
    "\n",
    "    isAcceptable = \"V\" if ecgId in ecgsAcceptable else \"F\"\n",
    "\n",
    "    ecgsLabels.loc[len(ecgsLabels)] = [\n",
    "        ecgId, \n",
    "        isAcceptable\n",
    "    ]"
   ]
  },
  {
   "cell_type": "code",
   "execution_count": 86,
   "metadata": {},
   "outputs": [
    {
     "name": "stdout",
     "output_type": "stream",
     "text": [
      "(1000, 2)\n"
     ]
    },
    {
     "data": {
      "text/html": [
       "<div>\n",
       "<style scoped>\n",
       "    .dataframe tbody tr th:only-of-type {\n",
       "        vertical-align: middle;\n",
       "    }\n",
       "\n",
       "    .dataframe tbody tr th {\n",
       "        vertical-align: top;\n",
       "    }\n",
       "\n",
       "    .dataframe thead th {\n",
       "        text-align: right;\n",
       "    }\n",
       "</style>\n",
       "<table border=\"1\" class=\"dataframe\">\n",
       "  <thead>\n",
       "    <tr style=\"text-align: right;\">\n",
       "      <th></th>\n",
       "      <th>id</th>\n",
       "      <th>isAcceptable</th>\n",
       "    </tr>\n",
       "  </thead>\n",
       "  <tbody>\n",
       "    <tr>\n",
       "      <th>789</th>\n",
       "      <td>2679451</td>\n",
       "      <td>V</td>\n",
       "    </tr>\n",
       "    <tr>\n",
       "      <th>911</th>\n",
       "      <td>2868054</td>\n",
       "      <td>V</td>\n",
       "    </tr>\n",
       "    <tr>\n",
       "      <th>818</th>\n",
       "      <td>2855979</td>\n",
       "      <td>V</td>\n",
       "    </tr>\n",
       "    <tr>\n",
       "      <th>861</th>\n",
       "      <td>1073952</td>\n",
       "      <td>V</td>\n",
       "    </tr>\n",
       "    <tr>\n",
       "      <th>972</th>\n",
       "      <td>2681017</td>\n",
       "      <td>V</td>\n",
       "    </tr>\n",
       "    <tr>\n",
       "      <th>537</th>\n",
       "      <td>1780407</td>\n",
       "      <td>V</td>\n",
       "    </tr>\n",
       "    <tr>\n",
       "      <th>468</th>\n",
       "      <td>1050325</td>\n",
       "      <td>F</td>\n",
       "    </tr>\n",
       "    <tr>\n",
       "      <th>254</th>\n",
       "      <td>2116607</td>\n",
       "      <td>V</td>\n",
       "    </tr>\n",
       "    <tr>\n",
       "      <th>984</th>\n",
       "      <td>2760946</td>\n",
       "      <td>V</td>\n",
       "    </tr>\n",
       "    <tr>\n",
       "      <th>675</th>\n",
       "      <td>2129226</td>\n",
       "      <td>V</td>\n",
       "    </tr>\n",
       "    <tr>\n",
       "      <th>809</th>\n",
       "      <td>2869593</td>\n",
       "      <td>V</td>\n",
       "    </tr>\n",
       "    <tr>\n",
       "      <th>369</th>\n",
       "      <td>2825450</td>\n",
       "      <td>V</td>\n",
       "    </tr>\n",
       "  </tbody>\n",
       "</table>\n",
       "</div>"
      ],
      "text/plain": [
       "          id isAcceptable\n",
       "789  2679451            V\n",
       "911  2868054            V\n",
       "818  2855979            V\n",
       "861  1073952            V\n",
       "972  2681017            V\n",
       "537  1780407            V\n",
       "468  1050325            F\n",
       "254  2116607            V\n",
       "984  2760946            V\n",
       "675  2129226            V\n",
       "809  2869593            V\n",
       "369  2825450            V"
      ]
     },
     "execution_count": 86,
     "metadata": {},
     "output_type": "execute_result"
    }
   ],
   "source": [
    "print(ecgsLabels.shape)\n",
    "ecgsLabels.sample(12)"
   ]
  },
  {
   "cell_type": "markdown",
   "metadata": {},
   "source": [
    "### Datasets para treino e validação"
   ]
  },
  {
   "cell_type": "code",
   "execution_count": 87,
   "metadata": {},
   "outputs": [
    {
     "name": "stdout",
     "output_type": "stream",
     "text": [
      "          id isAcceptable\n",
      "762  2622365            V\n",
      "536  1035858            V\n",
      "615  1812105            V\n",
      "416  1882255            F\n",
      "645  1085468            V\n",
      "Acceptable: 77.0%\n",
      "Unacceptable: 23.0%\n"
     ]
    }
   ],
   "source": [
    "labelsGroups = ecgsLabels.groupby(\"isAcceptable\")\n",
    "\n",
    "ecgAcceptable = labelsGroups.get_group(\"V\")\n",
    "ecgUnacceptable = labelsGroups.get_group(\"F\")\n",
    "\n",
    "validationLen = int(0.3 * len(ecgsLabels))\n",
    "\n",
    "ecgsValidation = ecgsLabels.sample(validationLen)\n",
    "print(ecgsValidation.head())\n",
    "\n",
    "acceptableCount = ecgsValidation[\"isAcceptable\"]\\\n",
    "    .loc[ecgsValidation[\"isAcceptable\"] == \"V\"]\\\n",
    "    .count()\n",
    "\n",
    "unacceptableCount = validationLen - acceptableCount\n",
    "\n",
    "acceptablePercent = acceptableCount * 100 / validationLen\n",
    "unacceptablePercent = unacceptableCount * 100 / validationLen\n",
    "\n",
    "acceptablePercent = round(acceptablePercent, 2)\n",
    "unacceptablePercent = round(unacceptablePercent, 2)\n",
    "\n",
    "print(f\"Acceptable: { acceptablePercent }%\")\n",
    "print(f\"Unacceptable: { unacceptablePercent }%\")\n"
   ]
  },
  {
   "cell_type": "markdown",
   "metadata": {},
   "source": [
    "### Modelos de Classificação"
   ]
  },
  {
   "cell_type": "markdown",
   "metadata": {},
   "source": [
    "#### Flatline"
   ]
  },
  {
   "cell_type": "code",
   "execution_count": 88,
   "metadata": {},
   "outputs": [],
   "source": [
    "class FlatlineModel():\n",
    "    def __init__(self, threshold):\n",
    "        self.name = \"Flatline Model\"\n",
    "        \n",
    "        self.threshold = threshold\n",
    "\n",
    "    def predict(self, ecgId, derivation):\n",
    "        ecgFilename = os.path.join(\n",
    "            DATASET_FOLDER, \n",
    "            f\"{ ecgId }.txt\"\n",
    "        )\n",
    "\n",
    "        ecg = pd.read_csv(ecgFilename)\n",
    "        ecg.columns = ecgColumns\n",
    "\n",
    "        derivate = np.diff(ecg[derivation])\n",
    "        derivateAbs = np.abs(derivate)\n",
    "        derivateMean = np.mean(derivateAbs)\n",
    "\n",
    "        if derivateMean <= self.threshold:\n",
    "            return \"F\"\n",
    "        return \"V\"\n"
   ]
  },
  {
   "cell_type": "markdown",
   "metadata": {},
   "source": [
    "#### STD"
   ]
  },
  {
   "cell_type": "code",
   "execution_count": 89,
   "metadata": {},
   "outputs": [],
   "source": [
    "class STDModel():\n",
    "    def __init__(self, threshold):\n",
    "        self.name = \"STD Model\"\n",
    "        self.threshold = threshold\n",
    "\n",
    "    def predict(self, ecgId, derivation):\n",
    "        ecgFilename = os.path.join(\n",
    "            DATASET_FOLDER, \n",
    "            f\"{ ecgId }.txt\"\n",
    "        )\n",
    "\n",
    "        ecg = pd.read_csv(ecgFilename)\n",
    "        ecg.columns = ecgColumns\n",
    "\n",
    "        noise = ecg[derivation].std()\n",
    "\n",
    "        if noise >= self.threshold:\n",
    "            return \"F\"\n",
    "        return \"V\"\n"
   ]
  },
  {
   "cell_type": "markdown",
   "metadata": {},
   "source": [
    "#### Compound"
   ]
  },
  {
   "cell_type": "code",
   "execution_count": 90,
   "metadata": {},
   "outputs": [],
   "source": [
    "class CompoundModel():\n",
    "    def __init__(self, flatlineThreshold, noiseThreshold):\n",
    "        self.name = \"Compound Model\"\n",
    "\n",
    "        self.flatlineModel = FlatlineModel(flatlineThreshold)\n",
    "        self.STDModel = STDModel(noiseThreshold)\n",
    "\n",
    "    def predict(self, ecgId):\n",
    "        derivations = ecgColumns[1:]\n",
    "\n",
    "        for derivation in derivations:\n",
    "            flatlineLabel = self.flatlineModel.predict(\n",
    "                ecgId, \n",
    "                derivation\n",
    "            )\n",
    "\n",
    "            if flatlineLabel == \"F\":\n",
    "                return \"F\"\n",
    "            \n",
    "        derivationWithNoise = 0\n",
    "\n",
    "        for derivation in derivations:\n",
    "            stdLabel = self.STDModel.predict(\n",
    "                ecgId, \n",
    "                derivation\n",
    "            )\n",
    "\n",
    "            if stdLabel == \"F\":\n",
    "                derivationWithNoise += 1\n",
    "\n",
    "            if derivationWithNoise >= 2:\n",
    "                return \"F\"\n",
    "            \n",
    "        return \"V\""
   ]
  },
  {
   "cell_type": "markdown",
   "metadata": {},
   "source": [
    "### Avaliação de Modelos    "
   ]
  },
  {
   "cell_type": "markdown",
   "metadata": {},
   "source": [
    "#### Avaliador"
   ]
  },
  {
   "cell_type": "code",
   "execution_count": 91,
   "metadata": {},
   "outputs": [],
   "source": [
    "class Evaluator():\n",
    "    def __init__(self, model):\n",
    "        self.model = model\n",
    "        self.results = pd.DataFrame(\n",
    "            columns = [\n",
    "                \"id\", \n",
    "                \"predict\", \n",
    "                \"correct\"\n",
    "            ]\n",
    "        )\n",
    "\n",
    "        self.TP = 0 \n",
    "        self.FN = 0\n",
    "        self.FP = 0\n",
    "        self.TN = 0\n",
    "\n",
    "        self.accuracy = 0\n",
    "        self.precision = 0\n",
    "        self.sensitivity = 0\n",
    "        self.f1Score = 0\n",
    "\n",
    "    def getResults(self, ecgsValidation):\n",
    "        self.results = pd.DataFrame(\n",
    "            columns = [\n",
    "                \"id\", \n",
    "                \"predict\", \n",
    "                \"correct\"\n",
    "            ]\n",
    "        )\n",
    "        \n",
    "        for _, ecgLabel in ecgsValidation.iterrows():\n",
    "            labelPredicted = self.model.predict(ecgLabel[\"id\"])\n",
    "            \n",
    "            self.results.loc[len(self.results)] = [\n",
    "                ecgLabel[\"id\"],\n",
    "                labelPredicted,\n",
    "                ecgLabel[\"isAcceptable\"]\n",
    "            ]\n",
    "\n",
    "\n",
    "    def evaluate(self, ecgsValidation): \n",
    "        self.getResults(ecgsValidation)\n",
    "\n",
    "        self.TP = 0 \n",
    "        self.FN = 0\n",
    "        self.FP = 0\n",
    "        self.TN = 0\n",
    "\n",
    "        for _, result in self.results.iterrows():\n",
    "            predict = result[\"predict\"]\n",
    "            correct = result[\"correct\"]\n",
    "\n",
    "            if correct == \"V\" and predict == \"V\":\n",
    "                self.TP += 1\n",
    "\n",
    "            if correct == \"F\" and predict == \"V\":\n",
    "                self.FP += 1\n",
    "\n",
    "            if correct == \"V\" and predict == \"F\":\n",
    "                self.FN += 1\n",
    "\n",
    "            if correct == \"F\" and predict == \"F\":\n",
    "                self.TN += 1\n",
    "\n",
    "        self.accuracy = (self.TP + self.TN) / (self.TP + self.TN + self.FP + self.FN)\n",
    "        self.precision = self.TP / (self.TP + self.FP)\n",
    "        self.sensitivity = self.TP / (self.TP + self.FN)\n",
    "        self.f1Score = 2 * (self.precision * self.sensitivity) \n",
    "        self.f1Score /= (self.precision + self.sensitivity)\n",
    "\n",
    "    def toString(self):\n",
    "        accuracy = round(self.accuracy, 2)\n",
    "        precision = round(self.precision, 2)\n",
    "        sensitivity = round(self.sensitivity, 2)\n",
    "        f1Score = round(self.f1Score, 2)\n",
    "\n",
    "        out = f\"--- { self.model.name} ---\\n\"\n",
    "        out += f\"Acurácia: { accuracy * 100 }%\\n\"\n",
    "        out += f\"Precisão: { precision * 100 }%\\n\"\n",
    "        out += f\"Sensibilidade: { sensitivity * 100 }%\\n\"\n",
    "        out += f\"F1-Score: { f1Score * 100 }%\\n\"\n",
    "\n",
    "        return out"
   ]
  },
  {
   "cell_type": "markdown",
   "metadata": {},
   "source": [
    "#### Avaliação"
   ]
  },
  {
   "cell_type": "code",
   "execution_count": 96,
   "metadata": {},
   "outputs": [
    {
     "name": "stdout",
     "output_type": "stream",
     "text": [
      "--- Compound Model ---\n",
      "Acurácia: 69.0%\n",
      "Precisão: 95.0%\n",
      "Sensibilidade: 63.0%\n",
      "F1-Score: 76.0%\n",
      "\n"
     ]
    }
   ],
   "source": [
    "compoundModel = CompoundModel(1, 50)\n",
    "\n",
    "evaluator = Evaluator(compoundModel)\n",
    "evaluator.evaluate(ecgsValidation)\n",
    "\n",
    "print(evaluator.toString())\n"
   ]
  }
 ],
 "metadata": {
  "kernelspec": {
   "display_name": "ecg-ruido-6YsDnZCw-py3.12",
   "language": "python",
   "name": "python3"
  },
  "language_info": {
   "codemirror_mode": {
    "name": "ipython",
    "version": 3
   },
   "file_extension": ".py",
   "mimetype": "text/x-python",
   "name": "python",
   "nbconvert_exporter": "python",
   "pygments_lexer": "ipython3",
   "version": "3.12.0"
  }
 },
 "nbformat": 4,
 "nbformat_minor": 2
}
