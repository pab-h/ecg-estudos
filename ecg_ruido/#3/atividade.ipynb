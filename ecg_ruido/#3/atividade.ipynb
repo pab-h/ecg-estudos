{
 "cells": [
  {
   "cell_type": "code",
   "execution_count": 1,
   "metadata": {},
   "outputs": [],
   "source": [
    "import pandas as pd\n",
    "import os\n",
    "import matplotlib.pyplot as plt"
   ]
  },
  {
   "cell_type": "markdown",
   "metadata": {},
   "source": [
    "### Pré-processamento dos ECG's"
   ]
  },
  {
   "cell_type": "code",
   "execution_count": 2,
   "metadata": {},
   "outputs": [],
   "source": [
    "LABELS_FOLDER = \"../dataset/labels\"\n",
    "\n",
    "ecgsAcceptable = []\n",
    "\n",
    "with open(os.path.join(LABELS_FOLDER, \"RECORDS-acceptable\")) as file:\n",
    "    ecgsAcceptable = file.readlines()\n",
    "\n",
    "ecgsAcceptable = map(\n",
    "    lambda ecg: ecg[:-1], \n",
    "    ecgsAcceptable\n",
    ")\n",
    "ecgsAcceptable = list(ecgsAcceptable)"
   ]
  },
  {
   "cell_type": "code",
   "execution_count": 3,
   "metadata": {},
   "outputs": [
    {
     "name": "stdout",
     "output_type": "stream",
     "text": [
      "773\n"
     ]
    }
   ],
   "source": [
    "print(len(ecgsAcceptable))"
   ]
  },
  {
   "cell_type": "code",
   "execution_count": 6,
   "metadata": {},
   "outputs": [],
   "source": [
    "DATASET_FOLDER = \"../dataset/set-a\"\n",
    "\n",
    "ecgs = os.listdir(DATASET_FOLDER) \n",
    "ecgs = filter(lambda ecg: \".txt\" in ecg, ecgs)\n",
    "ecgs = list(ecgs)\n",
    "\n",
    "columns = [\n",
    "    \"amostra\",\n",
    "    \"lead I\", \n",
    "    \"lead II\", \n",
    "    \"lead III\", \n",
    "    \"aVR\", \n",
    "    \"aVL\",\n",
    "    \"aVF\", \n",
    "    \"V1\",\n",
    "    \"V2\",\n",
    "    \"V3\",\n",
    "    \"V4\",\n",
    "    \"V5\",\n",
    "    \"V6\"\n",
    "]\n",
    "\n",
    "ecgSummary = pd.DataFrame(\n",
    "    columns = [\n",
    "        \"ecg\", \n",
    "        \"derivation\", \n",
    "        \"variance\", \n",
    "        \"mean\", \n",
    "        \"median\", \n",
    "        \"skew\", \n",
    "        \"kurtosis\", \n",
    "        \"max\", \n",
    "        \"min\", \n",
    "        \"isAcceptable\"\n",
    "    ]\n",
    ")\n",
    "\n",
    "for ecg in ecgs: \n",
    "    ecgDf = pd.read_csv(\n",
    "        os.path.join(DATASET_FOLDER, ecg)\n",
    "    )\n",
    "    ecgDf.columns = columns\n",
    "\n",
    "    ecgId = ecg.split(\".\").pop(0)\n",
    "    isEcgAcceptable = \"V\" if ecgId in ecgsAcceptable else \"F\"\n",
    "\n",
    "    for derivation in columns[1::]:\n",
    "        ecgVariance = ecgDf[derivation].var()\n",
    "        ecgMean = ecgDf[derivation].mean()\n",
    "        ecgMedian = ecgDf[derivation].median()\n",
    "        ecgmode = ecgDf[derivation].mode()\n",
    "        ecgSkew = ecgDf[derivation].skew()\n",
    "        ecgKurtosis = ecgDf[derivation].kurtosis()\n",
    "        ecgMax = ecgDf[derivation].max()\n",
    "        ecgMin = ecgDf[derivation].min()\n",
    "\n",
    "        ecgSummary.loc[len(ecgSummary)] = [\n",
    "            ecgId, \n",
    "            derivation,\n",
    "            ecgVariance,\n",
    "            ecgMean,\n",
    "            ecgMedian,\n",
    "            ecgSkew,\n",
    "            ecgKurtosis,\n",
    "            ecgMax,\n",
    "            ecgMin,\n",
    "            isEcgAcceptable\n",
    "        ]"
   ]
  },
  {
   "cell_type": "code",
   "execution_count": 7,
   "metadata": {},
   "outputs": [
    {
     "name": "stdout",
     "output_type": "stream",
     "text": [
      "(12000, 10)\n",
      "           ecg derivation      variance      mean  median      skew  \\\n",
      "10121  2933532        aVF    331.608529  0.401680     3.0 -1.403530   \n",
      "11813  2760946        aVF    253.762876  0.834367    -4.0  2.612204   \n",
      "10649  2432060        aVF      0.000000  0.000000     0.0  0.000000   \n",
      "7435   2059468         V2  11242.349661  0.282657    10.0 -1.722876   \n",
      "8388   2191320     lead I    545.862735  1.090618    -4.0  4.102185   \n",
      "5049   2352232         V4    639.883847  1.626725    -2.0 -0.089810   \n",
      "9633   2813744         V4   1468.237467 -2.326265    -5.0  0.773963   \n",
      "2556   2923723     lead I   1327.663342  0.582917    -6.0  4.287226   \n",
      "11087  2753468         V6   4441.526000  1.732747   -17.0  4.077066   \n",
      "5561   2002988        aVF    796.662133  0.643129    -4.0  4.367148   \n",
      "\n",
      "        kurtosis  max  min isAcceptable  \n",
      "10121   7.118326   86  -80            V  \n",
      "11813   9.383334  100  -37            V  \n",
      "10649   0.000000    0    0            F  \n",
      "7435    3.506414  175 -381            V  \n",
      "8388   21.123916  162  -48            V  \n",
      "5049    6.095737  118 -121            V  \n",
      "9633    9.678548  208 -178            F  \n",
      "2556   20.365516  245  -36            V  \n",
      "11087  18.405870  413  -64            V  \n",
      "5561   21.578117  189  -60            V  \n"
     ]
    }
   ],
   "source": [
    "print(ecgSummary.shape)\n",
    "print(ecgSummary.sample(10))"
   ]
  }
 ],
 "metadata": {
  "kernelspec": {
   "display_name": "ecg-ruido-6YsDnZCw-py3.12",
   "language": "python",
   "name": "python3"
  },
  "language_info": {
   "codemirror_mode": {
    "name": "ipython",
    "version": 3
   },
   "file_extension": ".py",
   "mimetype": "text/x-python",
   "name": "python",
   "nbconvert_exporter": "python",
   "pygments_lexer": "ipython3",
   "version": "3.12.0"
  }
 },
 "nbformat": 4,
 "nbformat_minor": 2
}
